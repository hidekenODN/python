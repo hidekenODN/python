{
 "cells": [
  {
   "cell_type": "markdown",
   "metadata": {
    "collapsed": true
   },
   "source": [
    "### カーネル密度推定とは\n",
    "\n",
    "参考：D:\\Learning\\DataScience\\カーネル密度推定法.pdf\n",
    "\n",
    "【概要】\n",
    "統計学において、確率変数の確率密度関数を推定するノンパラメトリック手法のひとつ。\n",
    "\n",
    "【利用】\n",
    "ある母集団の標本のデータが与えられたとき、カーネル密度推定を使えばその母集団のデータを外挿（推測）できる。\n",
    "またヒストグラムは、一様なカーネル関数によるカーネル密度推定量と見ることもできる。"
   ]
  },
  {
   "cell_type": "markdown",
   "metadata": {},
   "source": [
    "### 確率密度関数の推定\n",
    "\n",
    "#### ヒストグラム法\n",
    "確率密度関数を推定する方法で最も単純なものがヒストグラム法。ヒストグラムを書いて、それを確率密度関数とする。しかし領域間で不連続かつ、領域の分割の仕方を決めるのが難しいといった問題がある。\n",
    "\n",
    "#### パラメトリック法：モデルのパラメータを推定\n",
    "1. 最尤推定法\n",
    "2. ベイズ推定法，最大事後確率法\n",
    "\n",
    "#### ノンパラメトリック法(non-parametric method)：\n",
    "モデルを使わず直接確率密度関数を推定\n",
    "1. カーネル密度推定法\n",
    "2. 最近傍密度推定法"
   ]
  }
 ],
 "metadata": {
  "anaconda-cloud": {},
  "kernelspec": {
   "display_name": "Python 3",
   "language": "python",
   "name": "python3"
  },
  "language_info": {
   "codemirror_mode": {
    "name": "ipython",
    "version": 3
   },
   "file_extension": ".py",
   "mimetype": "text/x-python",
   "name": "python",
   "nbconvert_exporter": "python",
   "pygments_lexer": "ipython3",
   "version": "3.6.4"
  },
  "latex_envs": {
   "bibliofile": "biblio.bib",
   "cite_by": "apalike",
   "current_citInitial": 1,
   "eqLabelWithNumbers": true,
   "eqNumInitial": 0
  },
  "toc": {
   "nav_menu": {
    "height": "119px",
    "width": "252px"
   },
   "navigate_menu": true,
   "number_sections": true,
   "sideBar": true,
   "threshold": 4,
   "toc_cell": false,
   "toc_section_display": "block",
   "toc_window_display": false
  }
 },
 "nbformat": 4,
 "nbformat_minor": 1
}
