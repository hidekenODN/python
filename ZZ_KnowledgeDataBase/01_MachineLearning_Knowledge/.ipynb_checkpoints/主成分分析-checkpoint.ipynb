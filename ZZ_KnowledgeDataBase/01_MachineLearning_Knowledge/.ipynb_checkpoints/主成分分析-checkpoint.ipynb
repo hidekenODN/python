{
 "cells": [
  {
   "cell_type": "markdown",
   "metadata": {},
   "source": [
    "## 主成分分析\n",
    "\n",
    "**主成分分析（PCA: Principal Component Analysis）**とは、  \n",
    "多くの変数により記述された量的データを、変数間の相関関係を利用することで、情報の損失を最小限に抑えつつ、少数個の無相関な合成変数に線形変換によって縮約する分析手法。\n",
    "\n",
    "※主成分分析には分散共分散行列を使用する方法と、相関行列を使用する方法の2通りがある。  \n",
    "元のデータの「分散」情報を残したい場合は前者を、単位が異なったいたり範囲が異なる変数を扱いたい場合は後者を選ぶ。"
   ]
  },
  {
   "cell_type": "markdown",
   "metadata": {},
   "source": [
    "### 用語定義：\n",
    "1. **主成分**（Principal Component）：元データを分解した際の各々の独立成分のこと（線形変換する際の係数$\\boldsymbol{a}_j$）\n",
    "2. **寄与率**（Proportion of Variance）：あるひとつの主成分が元のデータのうちどれくらいを表現できているかの指標\n",
    "3. **累積寄与率**（Cumulative Proportion）：いくつかの主成分で元データを縮約した際、元のデータのうちどれくらいを表現できているかの指標\n",
    "4. **主成分得点**（Principal component scores）：あるデータの第k主成分で持つ値（データ$\\boldsymbol{u}_i$を線形変換した後の値$z_{ik}=\\boldsymbol{a}_k^T\\boldsymbol{u}_i$）\n",
    "5. **因子負荷量**（Factor loading）：各サンプルデータと各主成分得点との相関関数$r(\\boldsymbol{z}_{k},\\boldsymbol{u}_i)$"
   ]
  },
  {
   "cell_type": "markdown",
   "metadata": {},
   "source": [
    "### 数学モデル：\n",
    "\n",
    "$p$次元の量的変数で記述されたサンプルデータ$\\boldsymbol{x}_i(i=1,2,...,n)$がある。これを$k(<p)$次元まで圧縮して記述したい。  \n",
    "まずサンプルデータ$\\boldsymbol{x}_i=[x_{i1},..., x_{ip}]^T$を標準化し、$\\boldsymbol{u}_i=[u_{i1},..., u_{ip}]^T $で表すこととする。  \n",
    "このとき、サンプルデータの平均ベクトル$\\bar{\\boldsymbol{x}}=[\\bar{x}_1,...,\\bar{x}_p]^T$を用いて"
   ]
  },
  {
   "cell_type": "markdown",
   "metadata": {},
   "source": [
    "\\begin{equation}\n",
    "   u_{ij}= \\frac{x_{ij}-\\bar{x}_j}{s_j},\\ \\ \\ \\ \n",
    "   \\bar{x}_{j} = \\frac{1}{n}\\sum_{i=1}^n x_{ij},\\ \\ \\ \\ \n",
    "   s_j = \\frac{1}{n-1}\\sum_{i=1}^n (x_{ij}-\\bar{x}_j)^2,\\ \\ \\ \\ \n",
    "   \\frac{1}{n}\\sum_{i=1}^nu_{ij}=0,\\ \\ \\ \\ \n",
    "   \\frac{1}{n-1}\\sum_{i=1}^nu_{ij}^2=1\n",
    "\\end{equation}"
   ]
  },
  {
   "cell_type": "markdown",
   "metadata": {},
   "source": [
    "さらにサンプルデータの相関係数行列$R_{p\\times p}$および、その固有ベクトルを$\\boldsymbol{a}_{j}$、固有値を$\\lambda_j$とする。  \n",
    "ただし固有ベクトルに関しては規格化条件：$\\boldsymbol{a}_{j1}^T \\boldsymbol{a}_{j2} = \\delta_{12},\\ (j=1,..., p)$を課す。するとこれらは以下を満たす："
   ]
  },
  {
   "cell_type": "markdown",
   "metadata": {},
   "source": [
    "\\begin{equation}\n",
    "  R_{p\\times p} =\n",
    "      \\left[\n",
    "        \\begin{array}{cccc}\n",
    "          1 & r_{12} & \\ldots & r_{1p} \\\\\n",
    "          r_{21} & 1 & \\ldots & r_{2p} \\\\\n",
    "          \\vdots & \\vdots & \\ddots & \\vdots \\\\\n",
    "          r_{p1} & r_{p2} & \\ldots & 1\n",
    "        \\end{array}\n",
    "      \\right],\\ \\ \\ \\ \\ \n",
    "  R_{p\\times p}\\boldsymbol{a}_j = \\lambda_j \\boldsymbol{a}_j,\\ \\ \\ \\ \n",
    "  \\lambda_1 \\geq \\lambda_2 \\geq\\ \\dots\\ \\geq \\lambda_p\n",
    "\\end{equation}"
   ]
  },
  {
   "cell_type": "markdown",
   "metadata": {},
   "source": [
    "すると標準化サンプルデータ$\\{\\boldsymbol{u}_i\\}_{i=1\\dots n}$の第$k$主成分得点$\\{\\boldsymbol{z}_{ik}\\}_{i=1\\dots n}$は以下のようになる："
   ]
  },
  {
   "cell_type": "markdown",
   "metadata": {},
   "source": [
    "\\begin{equation}\n",
    "    z_{ik} = a_{k1}u_{1i} + a_{k2}u_{2i} + \\dots + a_{kp}u_{pi} = \\boldsymbol{a}_k^T\\boldsymbol{u}_i\n",
    "\\end{equation}"
   ]
  },
  {
   "cell_type": "markdown",
   "metadata": {},
   "source": [
    "第$k$主成分の**寄与率**は以下のようになる："
   ]
  },
  {
   "cell_type": "markdown",
   "metadata": {},
   "source": [
    "\\begin{equation}\n",
    "    \\frac{\\lambda_k}{\\sum_{j=1}^p\\lambda_j} = \\frac{\\lambda_k}{\\mathrm{Tr}R_{p\\times p}} = \\frac{\\lambda_k}{p}\n",
    "\\end{equation}"
   ]
  },
  {
   "cell_type": "markdown",
   "metadata": {},
   "source": [
    "第$k$主成分の**因子負荷量**は以下のようになる(固有方程式と、サンプルデータから主成分得点を得る式より求められる)：  "
   ]
  },
  {
   "cell_type": "markdown",
   "metadata": {},
   "source": [
    "\\begin{equation}\n",
    "    r(\\boldsymbol{z}_{k},\\boldsymbol{u}_i) = \\sqrt{\\lambda_k}a_{ki}\n",
    "\\end{equation}"
   ]
  },
  {
   "cell_type": "markdown",
   "metadata": {},
   "source": [
    "第$k$主成分得点$\\{\\boldsymbol{z}_{ik}\\}_{i=1\\dots n}$の標本分散は、固有値$\\lambda_k$に一致する："
   ]
  },
  {
   "cell_type": "markdown",
   "metadata": {},
   "source": [
    "\\begin{eqnarray}\n",
    "    V(z_{ik}) &=& \\frac{1}{n-1}\\sum_{i=1}^n (z_{ik}-\\bar{z}_k)^2 = \\frac{1}{n-1}\\sum_{i=1}^n z_{ik}^2 \n",
    "    = \\frac{1}{n-1}\\sum_{i=1}^n (\\boldsymbol{a}_k^T\\boldsymbol{u}_i)(\\boldsymbol{u}_i^T\\boldsymbol{a}_k) \\\\\n",
    "    &=& \\boldsymbol{a}_k^T \\left( \\frac{1}{n-1}\\sum_{i=1}^n \\boldsymbol{u}_i\\boldsymbol{u}_i^T\\right) \\boldsymbol{a}_k\n",
    "    = \\boldsymbol{a}_k^T R \\boldsymbol{a}_k \n",
    "    = \\lambda_k \\boldsymbol{a}_k^T \\boldsymbol{a}_k \\\\\n",
    "    &=& \\lambda_k\n",
    "\\end{eqnarray}"
   ]
  },
  {
   "cell_type": "markdown",
   "metadata": {},
   "source": [
    "以上を行列形式でまとめる。  \n",
    "主成分分析を用いて情報を$k(<p)$次元まで圧縮したい場合、サンプルデータ行列$U_{p\\times n}$は主成分得点行列$Z_{k\\times n}$に変換される："
   ]
  },
  {
   "cell_type": "markdown",
   "metadata": {},
   "source": [
    "\\begin{equation}\n",
    "    Z_{k\\times n} = A_{k\\times p}U_{p\\times n}\n",
    "\\end{equation}"
   ]
  },
  {
   "cell_type": "markdown",
   "metadata": {},
   "source": [
    "\\begin{equation}\n",
    "  Z_{k\\times n}\n",
    "  = \n",
    "      \\left[\n",
    "        \\begin{array}{c|c|c|c}\n",
    "          \\boldsymbol{z}_{1} & \\boldsymbol{z}_{2} & \\dots & \\boldsymbol{z}_{n}\n",
    "        \\end{array}\n",
    "      \\right]\n",
    "  = \n",
    "      \\left[\n",
    "        \\begin{array}{c|c|c|c}\n",
    "          z_{11} & z_{12} & \\ldots & z_{1n} \\\\\n",
    "          z_{21} & z_{22} & \\ldots & z_{2n} \\\\\n",
    "          \\vdots & \\vdots & \\ddots & \\vdots \\\\\n",
    "          z_{k1} & z_{k2} & \\ldots & z_{kn}\n",
    "        \\end{array}\n",
    "      \\right]\n",
    "\\end{equation}"
   ]
  },
  {
   "cell_type": "markdown",
   "metadata": {},
   "source": [
    "\\begin{equation}\n",
    " A_{k\\times p}\n",
    " = \n",
    "      \\left[\n",
    "        \\begin{array}{c|c|c|c}\n",
    "          \\boldsymbol{a}_{1}^T \\\\ \\hline\n",
    "          \\boldsymbol{a}_{2}^T \\\\ \\hline\n",
    "          \\vdots \\\\ \\hline\n",
    "          \\boldsymbol{a}_{k}^T\n",
    "        \\end{array}\n",
    "      \\right]\n",
    "  = \n",
    "      \\left[\n",
    "        \\begin{array}{cccc}\n",
    "          a_{11} & a_{12} & \\ldots & a_{1p} \\\\ \\hline\n",
    "          a_{21} & a_{22} & \\ldots & a_{2p} \\\\ \\hline\n",
    "          \\vdots & \\vdots & \\ddots & \\vdots \\\\ \\hline\n",
    "          a_{k1} & a_{k2} & \\ldots & a_{kp}\n",
    "        \\end{array}\n",
    "      \\right]\n",
    " \\end{equation}"
   ]
  },
  {
   "cell_type": "markdown",
   "metadata": {},
   "source": [
    "  \\begin{equation}\n",
    "  U_{p\\times n}\n",
    "  = \n",
    "      \\left[\n",
    "        \\begin{array}{c|c|c|c}\n",
    "          \\boldsymbol{u}_{1} & \\boldsymbol{u}_{2} & \\dots & \\boldsymbol{u}_{n}\n",
    "        \\end{array}\n",
    "      \\right]\n",
    "  = \n",
    "      \\left[\n",
    "        \\begin{array}{c|c|c|c}\n",
    "          u_{11} & u_{12} & \\ldots & u_{1n} \\\\\n",
    "          u_{21} & u_{22} & \\ldots & u_{2n} \\\\\n",
    "          \\vdots & \\vdots & \\ddots & \\vdots \\\\\n",
    "          u_{p1} & u_{p2} & \\ldots & u_{pn}\n",
    "        \\end{array}\n",
    "      \\right]\n",
    "\\end{equation}"
   ]
  },
  {
   "cell_type": "markdown",
   "metadata": {},
   "source": [
    "第$k$主成分まで抽出した場合の**累積寄与率**は以下となる："
   ]
  },
  {
   "cell_type": "markdown",
   "metadata": {},
   "source": [
    "\\begin{equation}\n",
    "    \\frac{\\sum_{j=1}^k\\lambda_j}{\\sum_{j=1}^p\\lambda_j} = \\frac{\\sum_{j=1}^k\\lambda_j}{\\mathrm{Tr}R_{p\\times p}}\n",
    "    = \\frac{\\sum_{j=1}^k\\lambda_j}{p}\n",
    "\\end{equation}"
   ]
  },
  {
   "cell_type": "markdown",
   "metadata": {},
   "source": [
    "### 解析の手続き\n",
    "1. 相関係数行列$R$から固有ベクトル・固有値を求める。\n",
    "2. 各主成分の寄与率・累積寄与率を求める。基準（※）を設けて主成分を選択する。\n",
    "3. 因子負荷量を求める。また各主成分ごとに軸を取って散布図にプロットする。これにより各主成分の意味を考察する。\n",
    "4. 主成分得点を求める。また各主成分ごとに軸を取って散布図にプロットする。これによりサンプルの特徴づけや分類を行う。"
   ]
  },
  {
   "cell_type": "markdown",
   "metadata": {},
   "source": [
    "### ※主成分の選択基準\n",
    "主成分の選択基準は複数ある。最近は平均分析法を用いケースが増えている。\n",
    "1. **Scree plot法**：  固有値の大きさを折れ線や棒グラフ等でプロットし、値が急降下し、その後なだらかになる場合に急降下する前までを採用\n",
    "2. **Kaiser基準**：  相関係数行列を用いる場合に、固有値が1以上の主成分を採用（Guttman基準ともいう）\n",
    "3. **累積寄与率を用いる方法**：分散共分散行列を用いる場合に、累積寄与率が70～80%になる前後まで採用\n",
    "4. **カイ二乗値を用いる方法**\n",
    "5. **MAP(Minimum Average Partial)法**：最小偏相関平均法を用いる\n",
    "6. **平均分析法**：\n",
    "    1. **乱数によるシミュレーション法**：用いるデータと同じサイズの乱数データセットを複数セット作成し、その固有値の平均と比較する方法\n",
    "    2. **リサンプリング法**：データセットからサンプリングしたデータセットを複数生成し、その固有値の平均と基準として、それより大きい固有値まで用いる方法"
   ]
  },
  {
   "cell_type": "markdown",
   "metadata": {},
   "source": [
    "### 解析サンプル"
   ]
  },
  {
   "cell_type": "code",
   "execution_count": null,
   "metadata": {
    "collapsed": true
   },
   "outputs": [],
   "source": []
  }
 ],
 "metadata": {
  "anaconda-cloud": {},
  "kernelspec": {
   "display_name": "Python [Root]",
   "language": "python",
   "name": "Python [Root]"
  },
  "language_info": {
   "codemirror_mode": {
    "name": "ipython",
    "version": 3
   },
   "file_extension": ".py",
   "mimetype": "text/x-python",
   "name": "python",
   "nbconvert_exporter": "python",
   "pygments_lexer": "ipython3",
   "version": "3.5.1"
  },
  "latex_envs": {
   "bibliofile": "biblio.bib",
   "cite_by": "apalike",
   "current_citInitial": 1,
   "eqLabelWithNumbers": true,
   "eqNumInitial": 0
  }
 },
 "nbformat": 4,
 "nbformat_minor": 0
}
