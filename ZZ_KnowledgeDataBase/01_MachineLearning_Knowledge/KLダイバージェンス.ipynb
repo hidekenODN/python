{
 "cells": [
  {
   "cell_type": "markdown",
   "metadata": {},
   "source": [
    "## KLダイバージェンスとは\n",
    "Kullback-Leibler divergence ( KLダイバージェンス、KL情報量 )は、２つの確率分布がどの程度似ているかを表す尺度。\n",
    "定義は以下になります。"
   ]
  },
  {
   "cell_type": "markdown",
   "metadata": {},
   "source": [
    "\\begin{equation}\n",
    "    KL(p||q) = \\int_{\\infty}^{\\infty} p(x) \\ln \\frac{p(x)}{q(x)} dx\n",
    "\\end{equation}"
   ]
  },
  {
   "cell_type": "markdown",
   "metadata": {},
   "source": [
    "重要な特性が２点あります。\n",
    "1つ目は、同じ確率分布では0となるということです。"
   ]
  },
  {
   "cell_type": "markdown",
   "metadata": {},
   "source": [
    "\\begin{equation}\n",
    "    KL(p||q) = \\int_{\\infty}^{\\infty} p(x) \\ln \\frac{p(x)}{p(x)} dx = \\int_{\\infty}^{\\infty} p(x) \\ln(1) dx = 0\n",
    "\\end{equation}"
   ]
  },
  {
   "cell_type": "markdown",
   "metadata": {},
   "source": [
    "２つ目は、常に0を含む正の値となり、確率分布が似ていない程、大きな値となるということです\n",
    "これらの特性について正規分布の実例を用いて見ていきます。"
   ]
  },
  {
   "cell_type": "markdown",
   "metadata": {},
   "source": [
    "## 正規分布間のKLダイバージェンス"
   ]
  },
  {
   "cell_type": "markdown",
   "metadata": {},
   "source": [
    "### 平均が変数のとき"
   ]
  },
  {
   "cell_type": "code",
   "execution_count": 13,
   "metadata": {
    "collapsed": false
   },
   "outputs": [
    {
     "name": "stdout",
     "output_type": "stream",
     "text": [
      "1 4\n",
      "2 5\n",
      "3 6\n"
     ]
    }
   ],
   "source": [
    "list1 = [1,2,3]\n",
    "list2 = [4,5,6]\n",
    "for (a,b) in zip(list1,list2):\n",
    "    print(a,b)"
   ]
  },
  {
   "cell_type": "code",
   "execution_count": 14,
   "metadata": {
    "collapsed": false
   },
   "outputs": [
    {
     "name": "stdout",
     "output_type": "stream",
     "text": [
      "1 4 7\n",
      "2 5 8\n",
      "3 6 9\n"
     ]
    }
   ],
   "source": [
    "list4 = [\n",
    "    [1,2,3],\n",
    "    [4,5,6],\n",
    "    [7,8,9]\n",
    "]\n",
    "for (a,b,c) in zip(*list4):\n",
    "    print(a,b,c)"
   ]
  },
  {
   "cell_type": "code",
   "execution_count": 15,
   "metadata": {
    "collapsed": false
   },
   "outputs": [
    {
     "name": "stdout",
     "output_type": "stream",
     "text": [
      "0 a\n",
      "1 b\n",
      "2 c\n"
     ]
    }
   ],
   "source": [
    "list1 = ['a','b','c']\n",
    "for (i,x) in enumerate(list1):\n",
    "    print(i,x)"
   ]
  },
  {
   "cell_type": "code",
   "execution_count": 16,
   "metadata": {
    "collapsed": false
   },
   "outputs": [
    {
     "name": "stdout",
     "output_type": "stream",
     "text": [
      "Warning: Cannot change to a different GUI toolkit: notebook. Using tk instead.\n"
     ]
    }
   ],
   "source": [
    "import numpy as np\n",
    "import matplotlib.pyplot as plt\n",
    "import matplotlib.animation as animation\n",
    "\n",
    "%matplotlib notebook\n",
    "\n",
    "# 正規分布\n",
    "def gaussian1d(x,μ,σ):\n",
    "    y = 1 / ( np.sqrt(2*np.pi* σ**2 ) )  * np.exp( - ( x - μ )**2  / ( 2 * σ ** 2 ) )\n",
    "    return y\n",
    "\n",
    "# 正規分布のKL divergence\n",
    "def gaussian1d_KLdivergence(μ1,σ1,μ2,σ2):\n",
    "    A = np.log(σ2/σ1)\n",
    "    B = ( σ1**2 + (μ1 - μ2)**2 ) / (2*σ2**2)\n",
    "    C = -1/2\n",
    "    y = A + B + C\n",
    "    return y\n",
    "\n",
    "# KL divergence\n",
    "def KLdivergence(p,q,dx):\n",
    "    KL=np.sum(p * np.log(p/q)) * dx\n",
    "    return KL\n",
    "\n",
    "# xの刻み\n",
    "dx  = 0.01\n",
    "\n",
    "# xの範囲\n",
    "xlm = [-6,6]\n",
    "\n",
    "# x座標\n",
    "x   = np.arange(xlm[0],xlm[1]+dx,dx)\n",
    "\n",
    "# xの数\n",
    "x_n   = len(x)\n",
    "\n",
    "# Case 1\n",
    "# p(x) = N(0,1)\n",
    "# q(x) = N(μ,1)\n",
    "\n",
    "# p(x)の平均μ1\n",
    "μ1   = 0\n",
    "# p(x)の標準偏差σ1\n",
    "σ1   = 1  \n",
    "\n",
    "# p(x)\n",
    "px   = gaussian1d(x,μ1,σ1)\n",
    "\n",
    "# q(x)の標準偏差σ2\n",
    "σ2   = 1\n",
    "\n",
    "# q(x)の平均μ2\n",
    "U2   = np.arange(-4,5,1)\n",
    "\n",
    "U2_n = len(U2)\n",
    "\n",
    "# q(x)\n",
    "Qx   = np.zeros([x_n,U2_n])\n",
    "\n",
    "# KLダイバージェンス\n",
    "KL_U2  = np.zeros(U2_n)\n",
    "\n",
    "for i,μ2 in enumerate(U2):\n",
    "    qx        = gaussian1d(x,μ2,σ2)\n",
    "    Qx[:,i]   = qx\n",
    "    KL_U2[i]  = KLdivergence(px,qx,dx)\n",
    "\n",
    "\n",
    "# 解析解の範囲\n",
    "U2_exc    = np.arange(-4,4.1,0.1)\n",
    "\n",
    "# 解析解\n",
    "KL_U2_exc = gaussian1d_KLdivergence(μ1,σ1,U2_exc,σ2)\n",
    "\n",
    "# 解析解2\n",
    "KL_U2_exc2 = U2_exc**2 / 2\n",
    "\n",
    "#\n",
    "# plot\n",
    "#\n",
    "\n",
    "# figure\n",
    "fig = plt.figure(figsize=(8,4))\n",
    "# デフォルトの色\n",
    "clr=plt.rcParams['axes.prop_cycle'].by_key()['color']\n",
    "\n",
    "# axis 1 \n",
    "#-----------------------\n",
    "# 正規分布のプロット\n",
    "ax = plt.subplot(1,2,1)\n",
    "# p(x)\n",
    "plt.plot(x,px,label='$p(x)$')       \n",
    "# q(x)\n",
    "line,=plt.plot(x,Qx[:,i],color=clr[1],label='$q(x)$')       \n",
    "# 凡例\n",
    "plt.legend(loc=1,prop={'size': 13})\n",
    "\n",
    "plt.xticks(np.arange(xlm[0],xlm[1]+1,2))\n",
    "plt.xlabel('$x$')\n",
    "\n",
    "# axis 2\n",
    "#-----------------------\n",
    "# KLダイバージェンス\n",
    "ax2 = plt.subplot(1,2,2)\n",
    "# 解析解\n",
    "plt.plot(U2_exc,KL_U2_exc,label='Analytical')\n",
    "# 計算\n",
    "point, = ax2.plot([],'o',label='Numerical')\n",
    "\n",
    "# 凡例\n",
    "# plt.legend(loc=1,prop={'size': 15})\n",
    "\n",
    "plt.xlim([U2[0],U2[-1]])\n",
    "plt.xlabel('$\\mu$')\n",
    "plt.ylabel('$KL(p||q)$')\n",
    "\n",
    "plt.tight_layout()\n",
    "\n",
    "# 軸に共通の設定\n",
    "for a in [ax,ax2]:\n",
    "    plt.axes(a)\n",
    "    plt.grid()\n",
    "    # 正方形に\n",
    "    plt.gca().set_aspect(1/plt.gca().get_data_ratio())\n",
    "\n",
    "# 更新\n",
    "def update(i):\n",
    "    # 線\n",
    "    line.set_data(x,Qx[:,i])\n",
    "    # 点\n",
    "    point.set_data(U2[i],KL_U2[i])\n",
    "\n",
    "    # タイトル\n",
    "    ax.set_title(\"$\\mu_2=%.1f$\" % U2[i],fontsize=15)\n",
    "    ax2.set_title('$KL(p||q)=%.1f$' % KL_U2[i],fontsize=15)\n",
    "\n",
    "# アニメーション\n",
    "ani = animation.FuncAnimation(fig, update, interval=1000,frames=U2_n)\n",
    "# plt.show()\n",
    "# ani.save(\"KL_μ.gif\", writer=\"imagemagick\")"
   ]
  },
  {
   "cell_type": "markdown",
   "metadata": {},
   "source": [
    "### 標準偏差が変数のとき"
   ]
  },
  {
   "cell_type": "code",
   "execution_count": 12,
   "metadata": {
    "collapsed": false
   },
   "outputs": [
    {
     "name": "stdout",
     "output_type": "stream",
     "text": [
      "Warning: Cannot change to a different GUI toolkit: notebook. Using tk instead.\n"
     ]
    }
   ],
   "source": [
    "import numpy as np\n",
    "import matplotlib.pyplot as plt\n",
    "import matplotlib.animation as animation\n",
    "\n",
    "%matplotlib notebook\n",
    "\n",
    "# 正規分布\n",
    "def gaussian1d(x,μ,σ):\n",
    "    y = 1 / ( np.sqrt(2*np.pi* σ**2 ) )  * np.exp( - ( x - μ )**2  / ( 2 * σ ** 2 ) )\n",
    "    return y\n",
    "\n",
    "# 正規分布のKL divergence\n",
    "def gaussian1d_KLdivergence(μ1,σ1,μ2,σ2):\n",
    "    A = np.log(σ2/σ1)\n",
    "    B = ( σ1**2 + (μ1 - μ2)**2 ) / (2*σ2**2)\n",
    "    C = -1/2\n",
    "    y = A + B + C\n",
    "    return y\n",
    "\n",
    "# KL divergence\n",
    "def KLdivergence(p,q,dx):\n",
    "    KL=np.sum(p * np.log(p/q)) * dx\n",
    "    return KL\n",
    "\n",
    "# xの刻み\n",
    "dx  = 0.01\n",
    "\n",
    "# xの範囲\n",
    "xlm = [-6,6]\n",
    "\n",
    "# x座標\n",
    "x   = np.arange(xlm[0],xlm[1]+dx,dx)\n",
    "\n",
    "# xの数\n",
    "x_n   = len(x)\n",
    "\n",
    "# Case 2\n",
    "# p(x) = N(0,1)\n",
    "# q(x) = N(0,σ**2)\n",
    "\n",
    "# p(x)の平均μ1\n",
    "μ1   = 0\n",
    "# p(x)の標準偏差σ1\n",
    "σ1   = 1  \n",
    "\n",
    "# p(x)\n",
    "px   = gaussian1d(x,μ1,σ1)\n",
    "\n",
    "# q(x)の平均μ2\n",
    "μ2   = 0\n",
    "\n",
    "# q(x)の標準偏差σ2\n",
    "S2   = np.hstack([ np.arange(0.5,1,0.1),np.arange(1,2,0.2),np.arange(2,4.5,0.5) ])\n",
    "\n",
    "S2_n = len(S2)\n",
    "\n",
    "# q(x)\n",
    "Qx   = np.zeros([x_n,S2_n])\n",
    "\n",
    "# KLダイバージェンス\n",
    "KL_S2  = np.zeros(S2_n)\n",
    "\n",
    "for i,σ2 in enumerate(S2):\n",
    "    qx        = gaussian1d(x,μ2,σ2)\n",
    "    Qx[:,i]   = qx\n",
    "    KL_S2[i]  = KLdivergence(px,qx,dx)\n",
    "\n",
    "\n",
    "# 解析解の範囲\n",
    "S2_exc    = np.arange(0.5,4+0.05,0.05)\n",
    "\n",
    "# 解析解\n",
    "KL_S2_exc = gaussian1d_KLdivergence(μ1,σ1,μ2,S2_exc)\n",
    "\n",
    "# 解析解2\n",
    "KL_S2_exc2 = np.log(S2_exc) + 1/(2*S2_exc**2) - 1 / 2\n",
    "\n",
    "#\n",
    "# plot\n",
    "#\n",
    "\n",
    "# figure\n",
    "fig = plt.figure(figsize=(8,4))\n",
    "# デフォルトの色\n",
    "clr=plt.rcParams['axes.prop_cycle'].by_key()['color']\n",
    "\n",
    "# axis 1 \n",
    "#-----------------------\n",
    "# 正規分布のプロット\n",
    "ax = plt.subplot(1,2,1)\n",
    "# p(x)\n",
    "plt.plot(x,px,label='$p(x)$')       \n",
    "# q(x)\n",
    "line,=plt.plot(x,Qx[:,i],color=clr[1],label='$q(x)$')       \n",
    "# 凡例\n",
    "plt.legend(loc=1,prop={'size': 13})\n",
    "\n",
    "plt.ylim([0,0.8])\n",
    "plt.xticks(np.arange(xlm[0],xlm[1]+1,2))\n",
    "plt.xlabel('$x$')\n",
    "\n",
    "# axis 2\n",
    "#-----------------------\n",
    "# KLダイバージェンス\n",
    "ax2 = plt.subplot(1,2,2)\n",
    "# 解析解\n",
    "plt.plot(S2_exc,KL_S2_exc,label='Analytical')\n",
    "# 計算\n",
    "point, = ax2.plot([],'o',label='Numerical')\n",
    "\n",
    "# 凡例\n",
    "# plt.legend(loc=1,prop={'size': 15})\n",
    "\n",
    "plt.xlim([S2[0],S2[-1]])\n",
    "plt.xlabel('$\\sigma$')\n",
    "plt.ylabel('$KL(p||q)$')\n",
    "\n",
    "plt.tight_layout()\n",
    "\n",
    "# 軸に共通の設定\n",
    "for a in [ax,ax2]:\n",
    "    plt.axes(a)\n",
    "    plt.grid()\n",
    "    # 正方形に\n",
    "    plt.gca().set_aspect(1/plt.gca().get_data_ratio())\n",
    "\n",
    "# 更新\n",
    "def update(i):\n",
    "    # 線\n",
    "    line.set_data(x,Qx[:,i])\n",
    "    # 点\n",
    "    point.set_data(S2[i],KL_S2[i])\n",
    "\n",
    "    # タイトル\n",
    "    ax.set_title(\"$\\sigma_2=%.1f$\" % S2[i],fontsize=15)\n",
    "    ax2.set_title('$KL(p||q)=%.1f$' % KL_S2[i],fontsize=15)\n",
    "\n",
    "# アニメーション\n",
    "ani = animation.FuncAnimation(fig, update, interval=1000,frames=S2_n)\n",
    "plt.show()\n",
    "# ani.save(\"KL_σ.gif\", writer=\"imagemagick\")"
   ]
  }
 ],
 "metadata": {
  "kernelspec": {
   "display_name": "Python [Root]",
   "language": "python",
   "name": "Python [Root]"
  },
  "language_info": {
   "codemirror_mode": {
    "name": "ipython",
    "version": 3
   },
   "file_extension": ".py",
   "mimetype": "text/x-python",
   "name": "python",
   "nbconvert_exporter": "python",
   "pygments_lexer": "ipython3",
   "version": "3.5.1"
  },
  "latex_envs": {
   "bibliofile": "biblio.bib",
   "cite_by": "apalike",
   "current_citInitial": 1,
   "eqLabelWithNumbers": true,
   "eqNumInitial": 0
  }
 },
 "nbformat": 4,
 "nbformat_minor": 2
}
