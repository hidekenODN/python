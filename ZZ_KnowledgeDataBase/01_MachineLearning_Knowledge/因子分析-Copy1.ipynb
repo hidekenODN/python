{
 "cells": [
  {
   "cell_type": "markdown",
   "metadata": {},
   "source": [
    "## 因子分析\n",
    "\n",
    "**因子分析（factor analysis）**とは、  \n",
    "変数の間の相関関係から共通因子を求めることで、多くの変数を共通因子にまとめて説明することを目的とする分析手法。"
   ]
  },
  {
   "cell_type": "markdown",
   "metadata": {},
   "source": [
    "**※主成分分析との違い：**\n",
    "参考：https://bellcurve.jp/statistics/blog/14209.html\n",
    "\n",
    "主成分分析は多数の観測変数から少数の主成分という合成変数を作り出す手法で、観測変数と主成分の因果関係をパス図に描くと次のようになります。主成分分析では観測変数が原因で主成分は結果です。"
   ]
  },
  {
   "cell_type": "markdown",
   "metadata": {},
   "source": [
    "<img  src=\"主成分分析のパス図.png\"/>"
   ]
  },
  {
   "cell_type": "markdown",
   "metadata": {},
   "source": [
    "一方、因子分析は観測変数に影響を与えている共通因子を抽出する方法で、観測変数と因子の因果関係をパス図に描くと次のようになります。因子分析では（共通）因子が原因で観測変数が結果と主成分分析とは因果関係が逆になります。なお、この図にある独自因子とは、個々の観測変数固有の因子です。"
   ]
  },
  {
   "cell_type": "markdown",
   "metadata": {},
   "source": [
    "<img  src=\"因子分析のパス図.png\"/>"
   ]
  },
  {
   "cell_type": "markdown",
   "metadata": {},
   "source": [
    "### 用語定義：\n",
    "1. 共通因子・独立因子：観測変数に共通して影響している因子を「共通因子」と呼び、各観測変数に独立に影響する因子を「独立因子」と呼ぶ。\n",
    "2. 共通性・独立性：観測変数の変動のうち、ある共通因子で記述できる割合を「共通性」と呼ぶ。それ以外を「独立性」と呼ぶ。\n",
    "3. 因子負荷量：\n",
    "4. 因子得点$f_{ij}$：各$i$ごとの共通因子の値"
   ]
  },
  {
   "cell_type": "markdown",
   "metadata": {},
   "source": [
    "### 数学的な知識：\n",
    "\n",
    "一般に$p$次元で記述された$n$個のサンプルデータ$\\boldsymbol{x}_i=[x_{i1},..., x_{ip}]^T(i=1,...,n)$がある。これらが$k$個の共通因子で記述できるとする。  \n",
    "この共通因子を表す列ベクトルを$\\boldsymbol{f}=[f_{1},..., f_{k}]^T$、因子負荷量を行列$A_{p\\times k}$、独立因子を列ベクトル$\\boldsymbol{u}=[u_{i1},..., u_{ip}]^T$とすると、因子分析のモデルは以下："
   ]
  },
  {
   "cell_type": "markdown",
   "metadata": {},
   "source": [
    "\\begin{equation}\n",
    "    \\boldsymbol{x}_i = A \\boldsymbol{f} + \\boldsymbol{u}_i\n",
    "\\end{equation}"
   ]
  },
  {
   "cell_type": "markdown",
   "metadata": {},
   "source": [
    "例えば、$p=4,\\ k=2$の場合は以下のようになる。変数$f_{ik}$を共通因子$f_k$の個体$i$に対する因子得点と呼び、共通因子の係数$a_{ik}$を因子負荷量と呼ぶ："
   ]
  },
  {
   "cell_type": "markdown",
   "metadata": {},
   "source": [
    "\\begin{eqnarray}\n",
    "    x_{i1} &=& a_{11}f_{i1} + a_{12}f_{i2} + u_{i1} \\\\\n",
    "    x_{i2} &=& a_{21}f_{i1} + a_{22}f_{i2} + u_{i2} \\\\\n",
    "    x_{i3} &=& a_{31}f_{i1} + a_{32}f_{i2} + u_{i3} \\\\\n",
    "    x_{i4} &=& a_{41}f_{i1} + a_{42}f_{i2} + u_{i4} \\\\\n",
    "\\end{eqnarray}"
   ]
  },
  {
   "cell_type": "markdown",
   "metadata": {},
   "source": [
    "因子分析では、観測変数$\\boldsymbol{x}$だけが定数であり、そのほかの量は確率変数である。そこで因子数$k$を決定して、観測変数から$A$と$\\boldsymbol{f}$を推定する。"
   ]
  },
  {
   "cell_type": "markdown",
   "metadata": {},
   "source": [
    "このとき、観測変数$\\boldsymbol{x}$の母相関係数行列$R$は以下のように記述できる："
   ]
  },
  {
   "cell_type": "markdown",
   "metadata": {},
   "source": [
    "\\begin{equation}\n",
    "    R = \n",
    "    \\left[\n",
    "        \\begin{array}{cccc}\n",
    "          1 & r_{12} & \\ldots & r_{1p} \\\\\n",
    "          r_{21} & 1 & \\ldots & r_{2p} \\\\\n",
    "          \\vdots & \\vdots & \\ddots & \\vdots \\\\\n",
    "          r_{p1} & r_{p2} & \\ldots & 1\n",
    "        \\end{array}\n",
    "    \\right]\n",
    "    =\n",
    "    A \\Phi A^T + \\Psi\n",
    "\\end{equation}\n",
    "\\begin{equation}\n",
    "    \\Phi =\n",
    "    E[\\boldsymbol{f}\\boldsymbol{f}^T],\\ \\ \\ \\ \n",
    "    \\Psi =\n",
    "    E[\\boldsymbol{u}_i\\boldsymbol{u}_i^T]\n",
    "    = \n",
    "    \\left[\n",
    "        \\begin{array}{ccc}\n",
    "          \\sigma_1^2 &  & \\\\\n",
    "           & \\ddots &  \\\\\n",
    "           &   & \\sigma_n^2\n",
    "        \\end{array}\n",
    "    \\right]\n",
    "\\end{equation}"
   ]
  },
  {
   "cell_type": "markdown",
   "metadata": {},
   "source": [
    "もし共通因子$f_k$同士が無相関であると仮定できれば、$\\Phi$は単位行列になる。また独立因子は互いに独立であり、分散は$\\sigma_i^2$で表されるとした。"
   ]
  },
  {
   "cell_type": "markdown",
   "metadata": {},
   "source": [
    "### 解析の手続き\n",
    "1. 共通因子数を決定する。\n",
    "2. 因子負荷量を推定する\n",
    "3. 因子を回転させる。\n",
    "4. 因子得点を推定する。"
   ]
  },
  {
   "cell_type": "markdown",
   "metadata": {},
   "source": [
    "### 因子数の選択基準\n",
    "因子数の選択基準は複数ある。最近は平均分析法を用いケースが増えている。\n",
    "1. **Scree plot法**：  固有値の大きさを折れ線や棒グラフ等でプロットし、値が急降下し、その後なだらかになる場合に急降下する前までを採用\n",
    "2. **Kaiser基準**：  相関係数行列を用いる場合に、固有値が1以上の主成分を採用（Guttman基準ともいう）\n",
    "3. **累積寄与率を用いる方法**：分散共分散行列を用いる場合に、累積寄与率が70～80%になる前後まで採用\n",
    "4. **カイ二乗値を用いる方法**\n",
    "5. **MAP(Minimum Average Partial)法**：最小偏相関平均法を用いる\n",
    "6. **平均分析法**：\n",
    "    1. **乱数によるシミュレーション法**：用いるデータと同じサイズの乱数データセットを複数セット作成し、その固有値の平均と比較する方法\n",
    "    2. **リサンプリング法**：データセットからサンプリングしたデータセットを複数生成し、その固有値の平均と基準として、それより大きい固有値まで用いる方法"
   ]
  },
  {
   "cell_type": "markdown",
   "metadata": {},
   "source": [
    "### 因子の回転\n",
    "因子負荷量行列は一意には決まらない。\n",
    "> ・$f$を$g$に変換する正則行列$B$を考える（$g=Bf$）  \n",
    "> ・$C=AB^{-1}$となる行列$C$を考える  \n",
    "> ・$Af=AB^{-1}Bf \\rightarrow Af=Cg$  \n",
    "> ・$A \\rightarrow C,\\ f \\rightarrow g$のように置換しても因子分析モデルは成立\n",
    "\n",
    "行列$B$の選択次第で、解の組み合わせは無数に存在する。そこで結果をより解釈しやすいように軸を回転させる。回転種類は主に以下：\n",
    "\n",
    "1. 直交回転（直交軸による回転）代表例：プロマックス回転\n",
    "2. 斜交回転（斜交軸による回転）代表例：バリマックス回転\n"
   ]
  },
  {
   "cell_type": "markdown",
   "metadata": {},
   "source": [
    "### 因子得点の推定\n",
    "標本から推定された因子負荷行列・相関係数行列・因子得点を$\\hat{A},\\hat{R},\\hat{f}$で表す。\n",
    "\n",
    "1. 回帰法：平均2乗誤差$MSE(f,\\hat{f})\\equiv E\\left[(\\hat{f}-f)(\\hat{f}-f)^T\\right]$の最小化を行う。推定量は$\\hat{f}_i=\\hat{A}^T\\hat{R}^{-1}\\boldsymbol{x}_i$\n",
    "2. Bartlett法：尤度関数の最大化（独立因子の最小化）を行う。推定量は$\\hat{f}_i=\\left(\\hat{A}^T\\hat{R}^{-1}\\hat{A}\\right)^{-1}\\hat{A}^T\\hat{R}^{-1}\\boldsymbol{x}_i$\n"
   ]
  },
  {
   "cell_type": "code",
   "execution_count": null,
   "metadata": {
    "collapsed": true
   },
   "outputs": [],
   "source": []
  },
  {
   "cell_type": "markdown",
   "metadata": {},
   "source": [
    "### 解析サンプル"
   ]
  },
  {
   "cell_type": "code",
   "execution_count": null,
   "metadata": {
    "collapsed": true
   },
   "outputs": [],
   "source": []
  }
 ],
 "metadata": {
  "anaconda-cloud": {},
  "kernelspec": {
   "display_name": "Python 3",
   "language": "python",
   "name": "python3"
  },
  "language_info": {
   "codemirror_mode": {
    "name": "ipython",
    "version": 3
   },
   "file_extension": ".py",
   "mimetype": "text/x-python",
   "name": "python",
   "nbconvert_exporter": "python",
   "pygments_lexer": "ipython3",
   "version": "3.6.4"
  },
  "latex_envs": {
   "LaTeX_envs_menu_present": true,
   "autoclose": false,
   "autocomplete": true,
   "bibliofile": "biblio.bib",
   "cite_by": "apalike",
   "current_citInitial": 1,
   "eqLabelWithNumbers": true,
   "eqNumInitial": 0,
   "hotkeys": {
    "equation": "Ctrl-E",
    "itemize": "Ctrl-I"
   },
   "labels_anchors": false,
   "latex_user_defs": false,
   "report_style_numbering": false,
   "user_envs_cfg": false
  },
  "toc": {
   "base_numbering": 1,
   "nav_menu": {},
   "number_sections": true,
   "sideBar": true,
   "skip_h1_title": false,
   "title_cell": "Table of Contents",
   "title_sidebar": "Contents",
   "toc_cell": false,
   "toc_position": {},
   "toc_section_display": true,
   "toc_window_display": false
  }
 },
 "nbformat": 4,
 "nbformat_minor": 1
}
