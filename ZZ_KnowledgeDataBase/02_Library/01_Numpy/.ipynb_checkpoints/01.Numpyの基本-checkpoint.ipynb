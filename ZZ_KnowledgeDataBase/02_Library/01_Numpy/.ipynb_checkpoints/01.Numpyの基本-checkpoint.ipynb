{
 "cells": [
  {
   "cell_type": "markdown",
   "metadata": {},
   "source": [
    "参考：あなたのデータサイエンス力を飛躍的に向上させるNumPy徹底入門\n",
    "https://deepage.net/features/numpy/"
   ]
  },
  {
   "cell_type": "markdown",
   "metadata": {},
   "source": [
    "## Numpyとは\n",
    "\n",
    "NumPyは、Pythonの数値計算のためのモジュールで、高速に数値計算ができることが特徴です。\n",
    "\n",
    "NumPyで使われる主なクラスは`np.ndarray`と呼ばれる多次元を扱う配列です。NumPy配列は、公式ドキュメントでは単に配列と称されることが多いです。\n",
    "\n",
    "Pythonは動的型付き言語（データ型が柔軟に帰ることができる）です。柔軟に素早く書くことができる言語として知られていますが、その一方で処理速度がJavaやCに比べて一般に遅いというデメリットがあります。そこで、CやFortranで書かれた型を固定して演算を行うことができるコードをPythonから呼び出すことを出来るようにしたライブラリがNumPyです。NumPyを導入することで高速な数値演算ができます。\n",
    "\n",
    "### Numpyのメリット\n",
    "- 研究のプロトタイプを簡単に実装できる\n",
    "- 数多くのライブラリを使い、高度な機能をシステムに組み込める\n",
    "- 高速な行列計算ができる"
   ]
  },
  {
   "cell_type": "markdown",
   "metadata": {},
   "source": [
    "## 多次元配列データ構造ndarrayの基礎\n",
    "https://deepage.net/features/numpy-ndarray.html\n",
    "\n",
    "### ndarrayの定義\n",
    "> An ndarray is a (usually fixed-size) multidimensional container of items of the same type and size.\n",
    "\n",
    ">ndarrayはたいてい一定の大きさを持つ、**同じサイズや型で構成された**複数要素の多次元の容れ物である。N-dimensional arrayの略。\n",
    "\n",
    "### ndarrayの特徴\n",
    "\n",
    "- 同じ型を持つ要素しか格納することができない\n",
    "- 各次元ごとの(2次元なら列ごとや行ごと)の要素数は必ず一定\n",
    "- C言語を元に、最適化された行列演算を行うため効率的な処理をすることができる\n",
    "\n",
    "### ndarrayの属性\n",
    "\n",
    "|属性|説明|\n",
    "|:--|:--|\n",
    "|`T`|いわゆる転置を返す。ndim(後述)$<2$のときは元の配列が返される。|\n",
    "|`data`|\tメモリ上の位置をPythonのバッファーオブジェクトで返す|\n",
    "|`dtype`|\tndarrayに含まれる要素が持つデータ型。|\n",
    "|`flags`|\tメモリ上におけるndarrayのデータの格納の仕方(Memory Layout)についての情報。|\n",
    "|`flat`|\tndarrayを１次元配列に変換するイテレーター。|\n",
    "|`imag`|\tndarrayにおける虚数部分(imaginary part)。|\n",
    "|`real`|\tndarrayにおける実数部分(real part)。|\n",
    "|`size`|\tndarrayに含まれる要素の数。|\n",
    "|`itemsize`|\tバイト単位での一つ一つの要素の大きさ。|\n",
    "|`nbytes`|\tそのndarrayの要素によって占められるバイト単位でのメモリ総量。|\n",
    "|`ndim`|\tndarrayに含まれる次元の数。|\n",
    "|`shape`|\tndarrayの形状(shape)をタプルで表したもの。|\n",
    "|`strides`|\t各次元方向に１つ隣の要素に移動するために必要なバイト数をタプルで表示したもの|\n",
    "|`ctypes`|\tctypesモジュールで扱うためのイテレーター。|\n",
    "|`base`|\tndarrayのベースとなるオブジェクト(どのメモリを参照しているのか)。|\n",
    "\n"
   ]
  },
  {
   "cell_type": "markdown",
   "metadata": {},
   "source": [
    "## ブロードキャスト\n",
    "https://deepage.net/features/numpy-broadcasting.html\n",
    "\n",
    "NumPyには、次元数や形状が揃っていない場合でも、プログラマが揃える処理を書かなくてもいいように簡単に計算を記述できるようになるブロードキャスト(Broadcasting)という機能が備わっています。\n",
    "\n",
    "### ブロードキャストのルール\n",
    "ブロードキャストには、NumPy配列が異なった次元・形状でも計算できるかを判断して処理するシンプルな4つのルールがあります。\n",
    "\n",
    "1. ブロードキャスト対象の配列の中で、次元数(ndim)が異なるときはshapeの先頭に1を入れることで調整する\n",
    "\n",
    "2. 計算処理に用いることのできる配列は、各次元の要素数が、最も大きい値に等しい、もしくはちょうど1となっているようなものである\n",
    "\n",
    "3. 出力される配列のshapeは調整されたshapeのそれぞれの次元において最も要素数の多いものに合わせられる\n",
    "\n",
    "4. 要素数が1となっている次元の軸については、値は全て同じものが繰り返される。"
   ]
  },
  {
   "cell_type": "markdown",
   "metadata": {},
   "source": [
    "## スライシング\n",
    "https://deepage.net/features/numpy-slicing.html\n",
    "\n",
    "スライシングとは、配列の中において、特定の範囲の要素を抜き出す際に利用する機能です。`:`を使って範囲の始めのインデックスと終わりのインデックスを指定することで、目的の要素を取得することができます。\n",
    "\n",
    "### 使い方\n",
    "各々の軸方向において`start:stop:step`を指定します。`step`に負値を入れると、逆順に抽出する。\n",
    "- start : 始点\n",
    "- stop :終点\n",
    "- step:何要素ごとにみるか\n",
    "\n",
    "### サンプルコード"
   ]
  },
  {
   "cell_type": "code",
   "execution_count": 7,
   "metadata": {
    "collapsed": false
   },
   "outputs": [
    {
     "name": "stdout",
     "output_type": "stream",
     "text": [
      "[0 1 2 3 4 5 6 7 8 9]\n",
      "[1 2 3 4]\n",
      "[2 4 6]\n",
      "[9 8 7 6 5 4 3 2 1 0]\n",
      "[0 1 2]\n",
      "[4 5 6 7 8 9]\n",
      "[0 1 2] [3 4 5 6 7 8 9]\n",
      "[0 2 4 6 8]\n",
      "[0 1 2 3 4 5 6 7 8 9]\n"
     ]
    }
   ],
   "source": [
    "import numpy as np\n",
    "a = np.arange(10) # 10個の連番を要素とする配列で見てみる。\n",
    "print(a)\n",
    "print(a[1:5]) # 1~4\n",
    "print(a[2:8:2]) # 2~7を一個置きで\n",
    "print(a[::-1]) # これで逆順に\n",
    "print(a[:3]) # 0~2\n",
    "print(a[4:]) # 4~9\n",
    "print(a[:3],a[3:]) # 3を境に２つに分割\n",
    "print(a[::2]) # 1個おきで。\n",
    "print(a[:]) # 全範囲"
   ]
  },
  {
   "cell_type": "markdown",
   "metadata": {},
   "source": [
    "## 軸(axis)と次元数(ndim)\n",
    "https://deepage.net/features/numpy-axis.html\n",
    "\n",
    "- `np.ndim`：多次元配列の次元数を取得できる。\n",
    "- `np.shape`：多次元配列の各次元ごとの要素数を取得できる。なお`ndarray`はネストした配列であり、ネストの上位順に`shape`の要素は並ぶ。  \n",
    "- `axis`：多次元配列の各次元の座標軸を意味する。\n",
    "\n",
    "「要素の合計を計算する`np.sum`関数、要素の平均を計算する`np.average`関数、最大の要素を探す`np.amax`関数」といった関数では`axis`を指定することで演算する次元を指定できる。\n",
    "\n",
    "### サンプルコード"
   ]
  },
  {
   "cell_type": "code",
   "execution_count": 5,
   "metadata": {
    "collapsed": false
   },
   "outputs": [
    {
     "name": "stdout",
     "output_type": "stream",
     "text": [
      "[[0 1]\n",
      " [2 3]\n",
      " [4 5]]\n",
      "(3, 2)\n",
      "2\n"
     ]
    }
   ],
   "source": [
    "import numpy as np\n",
    "a = np.arange(6).reshape((3, 2)) # 3*2の行列\n",
    "print(a)\n",
    "print(a.shape) # 各次元の要素数を表示\n",
    "print(a.ndim) # 次元数を表示"
   ]
  },
  {
   "cell_type": "code",
   "execution_count": 17,
   "metadata": {
    "collapsed": false
   },
   "outputs": [
    {
     "name": "stdout",
     "output_type": "stream",
     "text": [
      "[[[0 1]\n",
      "  [2 3]\n",
      "  [4 5]]\n",
      "\n",
      " [[0 1]\n",
      "  [2 3]\n",
      "  [4 5]]]\n",
      "(2, 3, 2)\n",
      "3\n"
     ]
    }
   ],
   "source": [
    "b = np.array([a, a])\n",
    "print(b)\n",
    "print(b.shape) # 各次元の要素数を表示\n",
    "print(b.ndim) # 次元数を表示"
   ]
  },
  {
   "cell_type": "code",
   "execution_count": 13,
   "metadata": {
    "collapsed": false
   },
   "outputs": [
    {
     "data": {
      "text/plain": [
       "array([[ 0,  2],\n",
       "       [ 4,  6],\n",
       "       [ 8, 10]])"
      ]
     },
     "execution_count": 13,
     "metadata": {},
     "output_type": "execute_result"
    }
   ],
   "source": [
    "b.sum(axis=0)"
   ]
  },
  {
   "cell_type": "code",
   "execution_count": 15,
   "metadata": {
    "collapsed": false
   },
   "outputs": [
    {
     "data": {
      "text/plain": [
       "array([[6, 9],\n",
       "       [6, 9]])"
      ]
     },
     "execution_count": 15,
     "metadata": {},
     "output_type": "execute_result"
    }
   ],
   "source": [
    "b.sum(axis=1)"
   ]
  },
  {
   "cell_type": "code",
   "execution_count": 16,
   "metadata": {
    "collapsed": false
   },
   "outputs": [
    {
     "data": {
      "text/plain": [
       "array([[1, 5, 9],\n",
       "       [1, 5, 9]])"
      ]
     },
     "execution_count": 16,
     "metadata": {},
     "output_type": "execute_result"
    }
   ],
   "source": [
    " b.sum(axis=2)"
   ]
  },
  {
   "cell_type": "markdown",
   "metadata": {},
   "source": [
    "<img  src=\"numpy-shape-3d.jpg\"/>"
   ]
  },
  {
   "cell_type": "markdown",
   "metadata": {},
   "source": [
    "### np.shapeの(R,)や(R,1)という表記について\n",
    "Pythonでは要素数が1つのタプルやただの１次元配列の`shape`は(R,)のようになります。  \n",
    "一方、１次元配列を転置した縦ベクトルの場合、`shape`は(R, 1)となります。"
   ]
  },
  {
   "cell_type": "code",
   "execution_count": 18,
   "metadata": {
    "collapsed": false
   },
   "outputs": [
    {
     "name": "stdout",
     "output_type": "stream",
     "text": [
      "(5,)\n",
      "(5, 1)\n"
     ]
    }
   ],
   "source": [
    "a = np.array([1,2,3,4,5]) # ただの１次元配列\n",
    "b = np.array([[1], [2], [3], [4], [5]]) # 縦ベクトルのようにすると(R,1)の形になる。\n",
    "print(a.shape)\n",
    "print(b.shape)"
   ]
  },
  {
   "cell_type": "markdown",
   "metadata": {},
   "source": [
    "## コピー(copy)とビュー(view)の違い\n",
    "https://deepage.net/features/numpy-copyview.html\n",
    "\n",
    "`copy`と`view`というのはオブジェクトであり、元となる配列との関係性で定まります。両者の特徴をまとめると以下のようになります。\n",
    "\n",
    "- `copy`：元の配列と違うメモリを使用しているが要素が同一の意味を持つもの\n",
    "- `view`：元の配列と同じメモリを参照しているもの\n",
    "\n",
    "`view`は同じメモリを参照しているため`view`にあたる配列の要素が変更されると元の配列にも変更が反映されることになります。\n",
    "\n",
    "メモリ効率という観点では大きな配列になればなるほど、`view`をなるべく使った方が良いことになります。しかし、元の配列のデータを変えてしまう可能性が非常に高く、元のデータを保持しておきたいという場合には`copy`を使いましょう。\n",
    "\n",
    "### 操作による違い\n",
    "\n",
    "NumPyの操作では`copy`と`view`が使い分けられています。内部操作が`copy`となるのか`view`を生成するのかを知っていることで、さらに効率を意識したコードを書くことができるのでまとめます。\n",
    "\n",
    "#### 代入\n",
    "`=`を使って代入していくわけですが、Pythonにおける変数への代入というのはオブジェクトへの参照を格納するということになります。つまり、代入された変数がオブジェクトになるのではなく、変数はあくまでオブジェクトがある場所を示すものとなっています。"
   ]
  },
  {
   "cell_type": "code",
   "execution_count": 19,
   "metadata": {
    "collapsed": false
   },
   "outputs": [
    {
     "data": {
      "text/plain": [
       "True"
      ]
     },
     "execution_count": 19,
     "metadata": {},
     "output_type": "execute_result"
    }
   ],
   "source": [
    "a = np.array([1, 2, 3])\n",
    "b = a # bにaを代入\n",
    "id(a) == id(b) # 参照元が同じかどうかを確かめる"
   ]
  },
  {
   "cell_type": "markdown",
   "metadata": {},
   "source": [
    "ここで、変数へ代入するときに`a`を`a[:]`と表記を変えてみます。Pythonの`list`だと`copy`になりますがNumPyの`ndarray`では`view`となります。  \n",
    "このように、スライス表記ですと元の配列と異なるオブジェクトが生成されますがそのオブジェクトの要素は元の配列のviewとなります。もちろん、スライス表記なので一部の配列を抜き出すようにしてもviewが生成されます。"
   ]
  },
  {
   "cell_type": "code",
   "execution_count": 20,
   "metadata": {
    "collapsed": false
   },
   "outputs": [
    {
     "data": {
      "text/plain": [
       "False"
      ]
     },
     "execution_count": 20,
     "metadata": {},
     "output_type": "execute_result"
    }
   ],
   "source": [
    "a = np.array([1,2,3])\n",
    "c = a[:] # 表記を変えてみる\n",
    "id(a) == id(c) # 違うオブジェクトを参照しているのがわかる。"
   ]
  },
  {
   "cell_type": "code",
   "execution_count": 21,
   "metadata": {
    "collapsed": false
   },
   "outputs": [
    {
     "data": {
      "text/plain": [
       "False"
      ]
     },
     "execution_count": 21,
     "metadata": {},
     "output_type": "execute_result"
    }
   ],
   "source": [
    "f = a.copy()\n",
    "id(a) == id(f)"
   ]
  },
  {
   "cell_type": "markdown",
   "metadata": {},
   "source": [
    "#### 演算\n",
    "演算結果について、表記の仕方でコピーが作られる場合と作られない場合が存在します。\n",
    "\n",
    "例えば、足し算をする場合には`copy`が生成されます。`a = a + 1`とすると`a`の`copy`が生成され、各要素に1を加算した新たな配列が`a`に代入されます。"
   ]
  },
  {
   "cell_type": "code",
   "execution_count": 22,
   "metadata": {
    "collapsed": false
   },
   "outputs": [
    {
     "data": {
      "text/plain": [
       "array([1, 2, 3])"
      ]
     },
     "execution_count": 22,
     "metadata": {},
     "output_type": "execute_result"
    }
   ],
   "source": [
    "a = np.array([1,2,3])\n",
    "c = a # viewとなるcをつくる。\n",
    "a = a + 1 # 1を加算する\n",
    "c # cに変更が反映されない。"
   ]
  },
  {
   "cell_type": "markdown",
   "metadata": {},
   "source": [
    "`a += 1`の形にするとどうなるでしょうか。この場合は`a`のコピーが作られることなく、配列の値が1ずつ加算される形で更新されます。これは四則演算子である`+,-,*,/`や累乗を計算する`**`においても同様のことが言えます。  "
   ]
  },
  {
   "cell_type": "code",
   "execution_count": 23,
   "metadata": {
    "collapsed": false
   },
   "outputs": [
    {
     "data": {
      "text/plain": [
       "array([2, 3, 4])"
      ]
     },
     "execution_count": 23,
     "metadata": {},
     "output_type": "execute_result"
    }
   ],
   "source": [
    "a = np.array([1,2,3])\n",
    "c = a\n",
    "a += 1\n",
    "c"
   ]
  },
  {
   "cell_type": "markdown",
   "metadata": {},
   "source": [
    "コピーを作らずに演算を行う方法として演算を行う関数を使うこともできます。加算なら`np.add()`、減算なら`np.subtract()`が使えます。  \n",
    "これらの演算関数の引数には`out`というものがあり、ここに元となる配列を指定すると配列の値を上書きすることができ、メモリ効率をあげることができます。コピーを作らないだけで計算パフォーマンスも向上します。"
   ]
  },
  {
   "cell_type": "code",
   "execution_count": 26,
   "metadata": {
    "collapsed": false
   },
   "outputs": [
    {
     "name": "stdout",
     "output_type": "stream",
     "text": [
      "[2 3 4]\n",
      "[2 3 4]\n"
     ]
    }
   ],
   "source": [
    "a = np.array([1,2,3])\n",
    "c = a\n",
    "np.add(a,1, out=a)\n",
    "print(a)\n",
    "print(c)"
   ]
  },
  {
   "cell_type": "markdown",
   "metadata": {},
   "source": [
    "#### 配列の一次元化\n",
    "配列を一次元化する関数として`flatten`関数と`ravel`関数が存在します。`flatten`関数では配列の一次元化した`copy`を作成してそれへの参照が返されます。一方、`ravel`関数では読み込むメモリーの場所は元の配列と同じビュー(`view`)を返します。\n",
    "\n",
    "`ravel`関数はコピーを作成しないため、コピーを作成する`flatten`関数より処理速度が速い特徴があります。"
   ]
  },
  {
   "cell_type": "code",
   "execution_count": 28,
   "metadata": {
    "collapsed": false
   },
   "outputs": [
    {
     "data": {
      "text/plain": [
       "(129.0, 129.0, -0.29122990104313423)"
      ]
     },
     "execution_count": 28,
     "metadata": {},
     "output_type": "execute_result"
    }
   ],
   "source": [
    "a = np.random.randn(2,3,9)\n",
    "b = a.ravel()\n",
    "c = a.flatten()\n",
    "a[0,0,0] = 129\n",
    "a[0,0,0], b[0], c[0]"
   ]
  },
  {
   "cell_type": "markdown",
   "metadata": {},
   "source": [
    "### copyかviewか確かめる方法\n",
    "一番簡単な方法として、NumPyにある`may_share_memory`関数で確かめる方法があります。  \n",
    "\n",
    "この関数は、引数として指定された２つの配列が同じメモリーを参照しているかどうかを確かめるものです。(この判定は実は厳密なものではなく、間違った`True`判定を出すときはあるが間違った`False`判定を出すことがない)  \n",
    "\n",
    "より厳密に知りたいかたは`share_memory`関数が実装されているのでそちらを使うことをオススメします。デメリットとして`may_share_memory`関数より処理時間がかかるというものがありますが。"
   ]
  },
  {
   "cell_type": "code",
   "execution_count": 29,
   "metadata": {
    "collapsed": false
   },
   "outputs": [
    {
     "name": "stdout",
     "output_type": "stream",
     "text": [
      "True\n",
      "True\n",
      "False\n",
      "True\n",
      "False\n"
     ]
    }
   ],
   "source": [
    "a = np.array([1,2,3])\n",
    "b = a\n",
    "c = a\n",
    "d = a.copy()\n",
    "print(np.may_share_memory(a,b)) # Trueならbはaのビューだということになる。\n",
    "print(np.may_share_memory(a,c)) # こちらもTrue\n",
    "print(np.may_share_memory(a, d)) # dはaのコピーなのでFalse\n",
    "print(np.shares_memory(a,b)) # より厳密な測定にはshare_memory関数を使う\n",
    "print(np.shares_memory(a,d))"
   ]
  },
  {
   "cell_type": "code",
   "execution_count": null,
   "metadata": {
    "collapsed": true
   },
   "outputs": [],
   "source": []
  }
 ],
 "metadata": {
  "anaconda-cloud": {},
  "kernelspec": {
   "display_name": "Python [Root]",
   "language": "python",
   "name": "Python [Root]"
  },
  "language_info": {
   "codemirror_mode": {
    "name": "ipython",
    "version": 3
   },
   "file_extension": ".py",
   "mimetype": "text/x-python",
   "name": "python",
   "nbconvert_exporter": "python",
   "pygments_lexer": "ipython3",
   "version": "3.5.1"
  },
  "latex_envs": {
   "bibliofile": "biblio.bib",
   "cite_by": "apalike",
   "current_citInitial": 1,
   "eqLabelWithNumbers": true,
   "eqNumInitial": 0
  },
  "toc": {
   "nav_menu": {
    "height": "246px",
    "width": "252px"
   },
   "navigate_menu": true,
   "number_sections": true,
   "sideBar": true,
   "threshold": 4,
   "toc_cell": false,
   "toc_section_display": "block",
   "toc_window_display": false
  }
 },
 "nbformat": 4,
 "nbformat_minor": 0
}
