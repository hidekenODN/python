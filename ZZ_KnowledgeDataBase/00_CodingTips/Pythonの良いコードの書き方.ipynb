{
 "cells": [
  {
   "cell_type": "markdown",
   "metadata": {},
   "source": [
    "## ループの基本\n",
    "\n",
    "参照：http://kesin.hatenablog.com/entry/2013/05/12/004541  \n",
    "参照：https://speakerdeck.com/pyconslides/transforming-code-into-beautiful-idiomatic-python-by-raymond-hettinger-1"
   ]
  },
  {
   "cell_type": "markdown",
   "metadata": {},
   "source": [
    "### 整数のループ。\n",
    "C言語では`for int i=0; i<6; i++`のように書きますが、Pythonでは`range`を使用するのが一般的。"
   ]
  },
  {
   "cell_type": "code",
   "execution_count": null,
   "metadata": {},
   "outputs": [],
   "source": [
    "for i in range(6):\n",
    "    print(i**2)"
   ]
  },
  {
   "cell_type": "markdown",
   "metadata": {},
   "source": [
    "### コレクションのループ\n",
    "リストなどの要素をループ中で取得したい場合、Pythonでは以下のように書きます。（他の言語のforEachと同様の働きもします。）\n",
    "なおfor文では英語の単数形と複数形を使うことで、何をループさせているのかひと目で分かりやすくさせるのがお作法になってます。"
   ]
  },
  {
   "cell_type": "code",
   "execution_count": null,
   "metadata": {},
   "outputs": [],
   "source": [
    "# 良くない書き方\n",
    "colors = ['red', 'green', 'blue', 'yellow']\n",
    "for i in range(len(colors)-1, -1, -1):\n",
    "    print(colors[i])\n",
    "\n",
    "# 良い書き方\n",
    "colors = ['red', 'green', 'blue', 'yellow']\n",
    "for color in colors:\n",
    "    print(color)"
   ]
  },
  {
   "cell_type": "markdown",
   "metadata": {},
   "source": [
    "### 逆順のループ"
   ]
  },
  {
   "cell_type": "code",
   "execution_count": null,
   "metadata": {},
   "outputs": [],
   "source": [
    "# 良くない書き方\n",
    "colors = ['red', 'green', 'blue', 'yellow']\n",
    "for i in range(len(colors)-1, -1, -1):\n",
    "    print(colors[i])\n",
    "\n",
    "# Pythonの書き方：reversedを使うことで何をしているのか分かりやすくなります。\n",
    "colors = ['red', 'green', 'blue', 'yellow']\n",
    "for color in reversed(colors):\n",
    "    print(colors)"
   ]
  },
  {
   "cell_type": "markdown",
   "metadata": {},
   "source": [
    "### コレクションのループと同時に要素番号も取得したい\n",
    "わりとよくあるパターンだと思います。"
   ]
  },
  {
   "cell_type": "code",
   "execution_count": null,
   "metadata": {},
   "outputs": [],
   "source": [
    "# 良くない書き方\n",
    "colors = ['red', 'green', 'blue', 'yellow']\n",
    "for i in range(len(colors)):\n",
    "    print(, '-->', colors[i])\n",
    "\n",
    "#Pythonの書き方：enumerateを使うことでスッキリ書くことができます。\n",
    "colors = ['red', 'green', 'blue', 'yellow']\n",
    "for i, color in enumerate(colors):\n",
    "    print(, '-->', color)"
   ]
  },
  {
   "cell_type": "markdown",
   "metadata": {},
   "source": [
    "### 同時に二つのコレクションをループさせたい\n",
    "二つのリストから同じ要素番号の要素を取ってきて、要素数が少ない方に合わせてループを終了したいというパターンです。"
   ]
  },
  {
   "cell_type": "code",
   "execution_count": null,
   "metadata": {},
   "outputs": [],
   "source": [
    "names = ['raymond', 'rachel', 'mattew']\n",
    "colors = ['red', 'green', 'blue', 'yellow']\n",
    "n = min(len(names), len(colors))\n",
    "\n",
    "# 良くない書き方\n",
    "for i in range(n):\n",
    "    print(names[i], '-->', colors[i])\n",
    "\n",
    "#Pythonの書き方：\n",
    "# 複数のリスト(もしくはイテラブルなもの)をまとめてくれるzipを使うとスッキリ書くことができます。\n",
    "for name, color in zip(names, colors):\n",
    "    print(name, '-->', color)"
   ]
  },
  {
   "cell_type": "markdown",
   "metadata": {},
   "source": [
    "### 複数のループ終了条件\n",
    "ここからは少し複雑なループの使い方になります。\n",
    "ループ中で一つも条件に合わなかった時、例外的な値を返したいという処理はよくあると思います。ついフラグを使いたくなってしまうパターンですね。"
   ]
  },
  {
   "cell_type": "code",
   "execution_count": null,
   "metadata": {},
   "outputs": [],
   "source": [
    "# 良くない書き方\n",
    "# フラグ変数が入るとコードが見難くなり、何をやっているのか分かりにくくなりがちです。\n",
    "# このような場合はfor文の中でelseを使うことでフラグを使わなくてもエレガントに書けます。\n",
    "def find(seq, target):\n",
    "    found = False\n",
    "    for i, value in enumerate(seq):\n",
    "        if value == tgt:\n",
    "            found = True\n",
    "            break\n",
    "    if not found:\n",
    "        return -1\n",
    "    return i\n",
    "\n",
    "# Pythonの書き方：\n",
    "# elseはfor文がbreakされずに正しく終了したときに実行されるらしいです。\n",
    "def find(seq, target):\n",
    "    for i, value in enumerate(seq):\n",
    "        if value == tgt:\n",
    "            break\n",
    "    else:\n",
    "        return -1\n",
    "    return i"
   ]
  },
  {
   "cell_type": "markdown",
   "metadata": {},
   "source": [
    "## 辞書の使い方\n",
    "何かとお世話になる辞書(dict)ですが、知ってるとエレガントにコードが書けるテクニックがいくつかあるそうです。"
   ]
  },
  {
   "cell_type": "markdown",
   "metadata": {},
   "source": [
    "### キーでのループ\n",
    "まずは基本。dictでループを回すとキーの値を取得できます。"
   ]
  },
  {
   "cell_type": "code",
   "execution_count": null,
   "metadata": {},
   "outputs": [],
   "source": [
    "d = {'matthew': 'blue', 'rachel': 'green', 'raymond': 'red'}\n",
    "for k in d:\n",
    "    print(k)"
   ]
  },
  {
   "cell_type": "markdown",
   "metadata": {},
   "source": [
    "### キーとバリューでのループ\n",
    "キーが取得できるのだから、単純に思いつくのはこのような形です。"
   ]
  },
  {
   "cell_type": "code",
   "execution_count": null,
   "metadata": {},
   "outputs": [],
   "source": [
    "# 良くない書き方\n",
    "for k in d:\n",
    "    print(k, '-->', d[k])\n",
    "\n",
    "# Pythonの書き方：\n",
    "# 辞書オブジェクトのitems()を使うとd[k]をする必要がなくなり、\n",
    "# 変数名を自由に付けられるのでコードの見通しがよくなります。\n",
    "for k, v in d.items():\n",
    "    print(k, '-->', v)\n",
    "\n",
    "# ちなみにrange, zip同様、辞書のサイズが大きいとメモリを消費してしまうので、\n",
    "# そのような場合はiteritems()を使うとイテレーターで取得するのでメモリの節約になります。\n",
    "for k, v in d.iteritems():\n",
    "    print(k, '-->', v)"
   ]
  },
  {
   "cell_type": "markdown",
   "metadata": {},
   "source": [
    "### ペアから辞書の作成\n",
    "キーとバリューの候補が既にリスト等で存在する場合は、for文などを使わなくても一発で辞書に変換できます。"
   ]
  },
  {
   "cell_type": "code",
   "execution_count": 45,
   "metadata": {},
   "outputs": [
    {
     "data": {
      "text/plain": [
       "{'mattew': 'blue', 'rachel': 'green', 'raymond': 'red'}"
      ]
     },
     "execution_count": 45,
     "metadata": {},
     "output_type": "execute_result"
    }
   ],
   "source": [
    "names = ['raymond', 'rachel', 'mattew']\n",
    "colors = ['red', 'green', 'blue']\n",
    "d = dict(zip(names, colors))\n",
    "d"
   ]
  },
  {
   "cell_type": "markdown",
   "metadata": {},
   "source": [
    "### 辞書によるカウント\n",
    "自然言語処理などでは、どの単語が文書に何回登場したかを数えたいことがよくあります。\n",
    "辞書はお手軽なのでよく使いますが、新しい単語が登場したときに新たなキーとして登録しないとエラーになるため、少し工夫をする必要があります。"
   ]
  },
  {
   "cell_type": "code",
   "execution_count": 9,
   "metadata": {},
   "outputs": [
    {
     "data": {
      "text/plain": [
       "{'blue': 1, 'green': 2, 'red': 3}"
      ]
     },
     "execution_count": 9,
     "metadata": {},
     "output_type": "execute_result"
    }
   ],
   "source": [
    "# 良くない書き方\n",
    "colors = ['red', 'green', 'red', 'blue', 'green', 'red']\n",
    "d = {}\n",
    "for color in colors:\n",
    "    if color not in d:\n",
    "        d[color] = 0\n",
    "    d[color] += 1\n",
    "d"
   ]
  },
  {
   "cell_type": "code",
   "execution_count": 10,
   "metadata": {},
   "outputs": [
    {
     "data": {
      "text/plain": [
       "{'blue': 1, 'green': 2, 'red': 3}"
      ]
     },
     "execution_count": 10,
     "metadata": {},
     "output_type": "execute_result"
    }
   ],
   "source": [
    "# Pythonの書き方：\n",
    "# 辞書オブジェクトのgetを使うと、キーが存在しなかった場合は引数で渡した値をバリューとしてセット\n",
    "# してくれるので、上のコードのfor文内は1行で済みます。\n",
    "d = {}\n",
    "for color in colors:\n",
    "    d[color] = d.get(color, 0) + 1\n",
    "d"
   ]
  },
  {
   "cell_type": "code",
   "execution_count": 24,
   "metadata": {},
   "outputs": [
    {
     "data": {
      "text/plain": [
       "defaultdict(int, {'blue': 1, 'green': 2, 'red': 3})"
      ]
     },
     "execution_count": 24,
     "metadata": {},
     "output_type": "execute_result"
    }
   ],
   "source": [
    "# さらに便利なのがcollectionsモジュールのdefaultdictです。 \n",
    "# defaultdictはキーが存在しなかったときに、自動的に作成するオブジェクトを指定できます。\n",
    "# int()=0なので、defultdict(int)は登録されていないキーが呼び出された時に、自動的に{キー: 0}を登録します\n",
    "\n",
    "from collections import defaultdict\n",
    "d = defaultdict(int)\n",
    "for color in colors:\n",
    "    d[color] += 1\n",
    "d"
   ]
  },
  {
   "cell_type": "code",
   "execution_count": 28,
   "metadata": {},
   "outputs": [
    {
     "data": {
      "text/plain": [
       "0"
      ]
     },
     "execution_count": 28,
     "metadata": {},
     "output_type": "execute_result"
    }
   ],
   "source": [
    "int()"
   ]
  },
  {
   "cell_type": "markdown",
   "metadata": {},
   "source": [
    "### 辞書によるグルーピング\n",
    "辞書のバリューをリストにするという、よくあるケースです。\n",
    "例えば、文字列の長さごとにグルーピングすると、こんな感じになると思います。"
   ]
  },
  {
   "cell_type": "code",
   "execution_count": 14,
   "metadata": {},
   "outputs": [
    {
     "data": {
      "text/plain": [
       "{5: ['betty'],\n",
       " 6: ['rachel', 'ronger', 'judith'],\n",
       " 7: ['raymond', 'matthew', 'melissa', 'charlie']}"
      ]
     },
     "execution_count": 14,
     "metadata": {},
     "output_type": "execute_result"
    }
   ],
   "source": [
    "names = ['raymond', 'rachel', 'matthew', 'ronger', 'betty', 'melissa', 'judith', 'charlie']\n",
    "d = {}\n",
    "for name in names:\n",
    "    key = len(name)\n",
    "    if key not in d:\n",
    "        d[key] = []\n",
    "    d[key].append(name)\n",
    "d"
   ]
  },
  {
   "cell_type": "markdown",
   "metadata": {},
   "source": [
    "カウントの初期値を0にしたのと同様に、キーが存在しなかったときに空のリストをバリューとして登録する必要があります。\n",
    "これは辞書オブジェクトのsetdefaultで置き換えることができます。"
   ]
  },
  {
   "cell_type": "code",
   "execution_count": 15,
   "metadata": {},
   "outputs": [
    {
     "data": {
      "text/plain": [
       "{5: ['betty'],\n",
       " 6: ['rachel', 'ronger', 'judith'],\n",
       " 7: ['raymond', 'matthew', 'melissa', 'charlie']}"
      ]
     },
     "execution_count": 15,
     "metadata": {},
     "output_type": "execute_result"
    }
   ],
   "source": [
    "d = {}\n",
    "for name in names:\n",
    "    key = len(name)\n",
    "    d.setdefault(key, []).append(name)\n",
    "d"
   ]
  },
  {
   "cell_type": "markdown",
   "metadata": {},
   "source": [
    "if文の処理を圧縮することができましたが、発表中ではこれですら美しくないということでdefaultdictを使うことをオススメしていました。"
   ]
  },
  {
   "cell_type": "code",
   "execution_count": 31,
   "metadata": {},
   "outputs": [
    {
     "data": {
      "text/plain": [
       "defaultdict(list,\n",
       "            {5: ['betty'],\n",
       "             6: ['rachel', 'ronger', 'judith'],\n",
       "             7: ['raymond', 'matthew', 'melissa', 'charlie']})"
      ]
     },
     "execution_count": 31,
     "metadata": {},
     "output_type": "execute_result"
    }
   ],
   "source": [
    "from collections import defaultdict\n",
    "d = defaultdict(list)\n",
    "for name in names:\n",
    "    key = len(name)\n",
    "    d[key].append(name)\n",
    "d"
   ]
  },
  {
   "cell_type": "code",
   "execution_count": 48,
   "metadata": {},
   "outputs": [
    {
     "name": "stdout",
     "output_type": "stream",
     "text": [
      "Counter({'き': 4, 'の': 3, 'さ': 2, 'ゆ': 2, 'み': 2, 'あ': 1, 'か': 1, 'ね': 1, 'す': 1, 'む': 1, 'ら': 1, 'し': 1, 'め': 1, 'も': 1, 'り': 1, 'は': 1, 'ず': 1, 'や': 1, 'が': 1, 'そ': 1, 'で': 1, 'ふ': 1, 'る': 1})\n",
      "[('き', 4)]\n"
     ]
    }
   ],
   "source": [
    "# collectionライブラリのCounterモジュールはさらに使いやすい\n",
    "from collections import Counter\n",
    "\n",
    "text = \"あかねさす　むらさきのゆき　しめのゆき　のもりはみずや　きみがそでふる\"\n",
    "text = text.replace(\"　\", \"\")\n",
    "\n",
    "c = Counter(text)        #文字をカウントするCounterオブジェクト\n",
    "print(c)                 #Counter({'き': 4, 'の': 3, 'ゆ': 2,...\n",
    "print(c.most_common(1))  #[('き', 4)]　最頻出の要素を表示"
   ]
  },
  {
   "cell_type": "markdown",
   "metadata": {},
   "source": [
    "## コードの可読性をよくする"
   ]
  },
  {
   "cell_type": "markdown",
   "metadata": {},
   "source": [
    "### キーワード引数\n",
    "Pythonは関数への引数に '引数名=値' という書き方が可能です。タイプ量は増えますが、引数の名前が分かると関数の振る舞いに予想がつくので可読性が向上します  \n",
    "キーワード引数を使うことで、関数の定義を確認しなくてもFalseやTrueが何を設定しているのかひと目で分かります。"
   ]
  },
  {
   "cell_type": "code",
   "execution_count": null,
   "metadata": {},
   "outputs": [],
   "source": [
    "twitter_search('@obama', False, 20, True)\n",
    "twitter_search('@obama', retweets=False, numtweets=20, popular=True)"
   ]
  },
  {
   "cell_type": "markdown",
   "metadata": {},
   "source": [
    "### 名前付きタプル"
   ]
  },
  {
   "cell_type": "code",
   "execution_count": 36,
   "metadata": {},
   "outputs": [],
   "source": [
    "from collections import namedtuple\n",
    "Point = namedtuple('Point3d', 'x y z')\n",
    "point = Point(10,20,30)"
   ]
  },
  {
   "cell_type": "code",
   "execution_count": 39,
   "metadata": {},
   "outputs": [
    {
     "name": "stdout",
     "output_type": "stream",
     "text": [
      "Point3d(x=10, y=20, z=30)\n",
      "10 20 30\n",
      "10 20 30\n"
     ]
    }
   ],
   "source": [
    "# 通常のタプルの振る舞いに加えて、オブジェクトのように参照することが可能になります。\n",
    "# ちょっとした構造体のようなものが欲しいときに便利です。\n",
    "print(point)\n",
    "print(point.x, point.y, point.z)\n",
    "print(point[0], point[1], point[2])"
   ]
  },
  {
   "cell_type": "markdown",
   "metadata": {},
   "source": [
    "### 展開して代入\n",
    "有名なので解説は必要ないでしょう。0x30がユーモアですねｗ"
   ]
  },
  {
   "cell_type": "code",
   "execution_count": 44,
   "metadata": {},
   "outputs": [
    {
     "data": {
      "text/plain": [
       "'Raymond'"
      ]
     },
     "execution_count": 44,
     "metadata": {},
     "output_type": "execute_result"
    }
   ],
   "source": [
    "p = 'Raymond', 'Hettinger', 0x30, 'python@example.com'\n",
    "fname, lname, age, email = p\n",
    "fname"
   ]
  },
  {
   "cell_type": "code",
   "execution_count": 47,
   "metadata": {},
   "outputs": [],
   "source": [
    "# 実は応用すると代入が簡単に行える以外にも便利な場面があります。\n",
    "# フィボナッチ数列を求める関数を例とすると、\n",
    "\n",
    "def fibonacci(n):\n",
    "    x = 0\n",
    "    y = 1\n",
    "    for i in range(n):\n",
    "        print(x)\n",
    "        t = y\n",
    "        y = x + y\n",
    "        x = t\n",
    "\n",
    "# tを一時変数として利用するプログラマーには非常にありふれた方法ですが、直感的に分かりづらいこともあります。\n",
    "# このように書きなおすことで、一時変数を使用する必要はなくなります。\n",
    "# x, yが同時のタイミングで代入されるため、このような書き換えが可能になっています。\n",
    "def fibonacci(n):\n",
    "    x, y = 0, 1\n",
    "    for i in range(n):\n",
    "        print(x)\n",
    "        x, y = y, x+y"
   ]
  },
  {
   "cell_type": "markdown",
   "metadata": {},
   "source": [
    "## その他"
   ]
  },
  {
   "cell_type": "markdown",
   "metadata": {},
   "source": [
    "### DataFrameのデータ変換"
   ]
  },
  {
   "cell_type": "code",
   "execution_count": 11,
   "metadata": {},
   "outputs": [
    {
     "data": {
      "text/html": [
       "<div>\n",
       "<style scoped>\n",
       "    .dataframe tbody tr th:only-of-type {\n",
       "        vertical-align: middle;\n",
       "    }\n",
       "\n",
       "    .dataframe tbody tr th {\n",
       "        vertical-align: top;\n",
       "    }\n",
       "\n",
       "    .dataframe thead th {\n",
       "        text-align: right;\n",
       "    }\n",
       "</style>\n",
       "<table border=\"1\" class=\"dataframe\">\n",
       "  <thead>\n",
       "    <tr style=\"text-align: right;\">\n",
       "      <th></th>\n",
       "      <th>code</th>\n",
       "      <th>name</th>\n",
       "      <th>detail</th>\n",
       "    </tr>\n",
       "  </thead>\n",
       "  <tbody>\n",
       "    <tr>\n",
       "      <th>0</th>\n",
       "      <td>1</td>\n",
       "      <td>Taro</td>\n",
       "      <td>B</td>\n",
       "    </tr>\n",
       "    <tr>\n",
       "      <th>1</th>\n",
       "      <td>0</td>\n",
       "      <td>Hanako</td>\n",
       "      <td>A</td>\n",
       "    </tr>\n",
       "    <tr>\n",
       "      <th>2</th>\n",
       "      <td>2</td>\n",
       "      <td>ichiro</td>\n",
       "      <td>C</td>\n",
       "    </tr>\n",
       "  </tbody>\n",
       "</table>\n",
       "</div>"
      ],
      "text/plain": [
       "   code    name detail\n",
       "0     1    Taro      B\n",
       "1     0  Hanako      A\n",
       "2     2  ichiro      C"
      ]
     },
     "execution_count": 11,
     "metadata": {},
     "output_type": "execute_result"
    }
   ],
   "source": [
    "# for文を使って同じ操作をすることが可能ですが、mapを使う方が早く終わります\n",
    "from pandas import DataFrame\n",
    "A = DataFrame({'code':[1,0,2], 'name':['Taro','Hanako','ichiro']})\n",
    "\n",
    "# 変換式\n",
    "transform = {0:'A', 1:'B', 2:'C'}\n",
    "\n",
    "# 上記変換式で、DataFrame全体を更新できます。\n",
    "A['detail'] = A['code'].map(transform)\n",
    "A"
   ]
  },
  {
   "cell_type": "code",
   "execution_count": null,
   "metadata": {},
   "outputs": [],
   "source": []
  }
 ],
 "metadata": {
  "kernelspec": {
   "display_name": "Python 3",
   "language": "python",
   "name": "python3"
  },
  "language_info": {
   "codemirror_mode": {
    "name": "ipython",
    "version": 3
   },
   "file_extension": ".py",
   "mimetype": "text/x-python",
   "name": "python",
   "nbconvert_exporter": "python",
   "pygments_lexer": "ipython3",
   "version": "3.6.4"
  },
  "toc": {
   "nav_menu": {
    "height": "335px",
    "width": "252px"
   },
   "navigate_menu": true,
   "number_sections": true,
   "sideBar": true,
   "threshold": 4,
   "toc_cell": false,
   "toc_section_display": "block",
   "toc_window_display": false
  }
 },
 "nbformat": 4,
 "nbformat_minor": 2
}
