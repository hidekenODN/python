{
 "cells": [
  {
   "cell_type": "markdown",
   "metadata": {},
   "source": [
    "## 高階関数の使い方\n",
    "\n",
    "高階関数とは　map，filter，reduce　のこと\n",
    "\n",
    "参考：https://qiita.com/croissant1028/items/94c4b7fd360cfcdef0e4"
   ]
  },
  {
   "cell_type": "markdown",
   "metadata": {},
   "source": [
    "### map 関数\n",
    "配列の全ての要素に対して処理をしたいときに使う．\n",
    "以下の例では，配列の全ての要素を 2 倍して出力する．"
   ]
  },
  {
   "cell_type": "code",
   "execution_count": 5,
   "metadata": {},
   "outputs": [
    {
     "name": "stdout",
     "output_type": "stream",
     "text": [
      "[2, 4, 6, 8]\n"
     ]
    }
   ],
   "source": [
    "print(list(map(lambda x: x * 2, range(1, 5))))"
   ]
  },
  {
   "cell_type": "markdown",
   "metadata": {},
   "source": [
    "### filter 関数\n",
    "配列の中で条件にマッチした要素にのみ処理をしたいときに使う．\n",
    "以下の例では，配列の要素から偶数のみを抽出する．"
   ]
  },
  {
   "cell_type": "code",
   "execution_count": 6,
   "metadata": {},
   "outputs": [
    {
     "name": "stdout",
     "output_type": "stream",
     "text": [
      "[2, 4]\n"
     ]
    }
   ],
   "source": [
    "print (list(filter(lambda x: x % 2 == 0, range(1, 5))))"
   ]
  },
  {
   "cell_type": "markdown",
   "metadata": {},
   "source": [
    "### reduce 関数\n",
    "複数の要素を 1 つにまとめたいときに使う．\n",
    "具体的には，配列の先頭から 2 つの要素を取り出して処理を行い，次はその結果とその次の要素に処理を行う，ということを繰り返す．\n",
    "\n",
    "しかし，Python 3 では reduce 関数は Python のコア関数からはずされており，functools モジュールをインポートしないと使えなくなっている．\n",
    "\n",
    "以下の例では，配列の全ての要素の合計を出す．"
   ]
  },
  {
   "cell_type": "code",
   "execution_count": 7,
   "metadata": {},
   "outputs": [
    {
     "name": "stdout",
     "output_type": "stream",
     "text": [
      "10\n"
     ]
    }
   ],
   "source": [
    "import functools\n",
    "\n",
    "print (functools.reduce(lambda x, y: x + y, range(1, 5)))"
   ]
  }
 ],
 "metadata": {
  "kernelspec": {
   "display_name": "Python 3",
   "language": "python",
   "name": "python3"
  },
  "language_info": {
   "codemirror_mode": {
    "name": "ipython",
    "version": 3
   },
   "file_extension": ".py",
   "mimetype": "text/x-python",
   "name": "python",
   "nbconvert_exporter": "python",
   "pygments_lexer": "ipython3",
   "version": "3.6.4"
  },
  "latex_envs": {
   "bibliofile": "biblio.bib",
   "cite_by": "apalike",
   "current_citInitial": 1,
   "eqLabelWithNumbers": true,
   "eqNumInitial": 0
  },
  "toc": {
   "nav_menu": {
    "height": "84px",
    "width": "252px"
   },
   "navigate_menu": true,
   "number_sections": true,
   "sideBar": true,
   "threshold": 4,
   "toc_cell": false,
   "toc_section_display": "block",
   "toc_window_display": false
  }
 },
 "nbformat": 4,
 "nbformat_minor": 1
}
